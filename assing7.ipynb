{
 "cells": [
  {
   "cell_type": "markdown",
   "id": "58319b7f-1d86-4bf2-b64b-21fe1e51ea7d",
   "metadata": {},
   "source": [
    "Q1. What is and Exception in python ? Write the difference between exception and syntax errors.\n",
    "\n",
    "ANS --> Exceptions provide a way to handle erros or exceptional condition's  without causing the program to crash.\n",
    "Exception is like an syntax error but it can't stop the execution of the program. when the error is occurence it provide an given statement."
   ]
  },
  {
   "cell_type": "code",
   "execution_count": 1,
   "id": "e4cdc995-9cc9-40fc-9e9c-b71e56e234a8",
   "metadata": {},
   "outputs": [
    {
     "name": "stdout",
     "output_type": "stream",
     "text": [
      "Error is division by zero\n",
      "\n",
      "Last line of program \n"
     ]
    }
   ],
   "source": [
    "# CODE FOR Q1. \n",
    "try:\n",
    "    a = 10 \n",
    "    b = 0\n",
    "    c = a / b \n",
    "except Exception as e:\n",
    "    print(\"Error is {}\".format(e))\n",
    "print(\"\\nLast line of program \")"
   ]
  },
  {
   "cell_type": "markdown",
   "id": "b2dd8c87-0fc2-4a93-90ff-0ead1d5fca13",
   "metadata": {},
   "source": [
    "Q2. What happens when an exception in not handled? Explain With and example.\n",
    "\n",
    "ANS --> When possibilities of occurance error in program. If  we don't use Exception handling in program . The error is occur and stop execution of program . and don't execute all line of program.\n"
   ]
  },
  {
   "cell_type": "code",
   "execution_count": 3,
   "id": "6bb2277d-e7e9-458e-a144-d9ef520dc154",
   "metadata": {},
   "outputs": [
    {
     "ename": "ZeroDivisionError",
     "evalue": "division by zero",
     "output_type": "error",
     "traceback": [
      "\u001b[1;31m---------------------------------------------------------------------------\u001b[0m",
      "\u001b[1;31mZeroDivisionError\u001b[0m                         Traceback (most recent call last)",
      "Cell \u001b[1;32mIn[3], line 5\u001b[0m\n\u001b[0;32m      3\u001b[0m a \u001b[38;5;241m=\u001b[39m \u001b[38;5;241m10\u001b[39m\n\u001b[0;32m      4\u001b[0m b \u001b[38;5;241m=\u001b[39m \u001b[38;5;241m0\u001b[39m\n\u001b[1;32m----> 5\u001b[0m c \u001b[38;5;241m=\u001b[39m \u001b[43ma\u001b[49m\u001b[43m \u001b[49m\u001b[38;5;241;43m/\u001b[39;49m\u001b[43m \u001b[49m\u001b[43mb\u001b[49m \n\u001b[0;32m      6\u001b[0m \u001b[38;5;28mprint\u001b[39m(\u001b[38;5;124m\"\u001b[39m\u001b[38;5;124mThis is the last line of program\u001b[39m\u001b[38;5;124m\"\u001b[39m)\n",
      "\u001b[1;31mZeroDivisionError\u001b[0m: division by zero"
     ]
    }
   ],
   "source": [
    "# CODE FOR Q2. \n",
    "# Program to check : what happen's if exception in not handled\n",
    "a = 10\n",
    "b = 0\n",
    "c = a / b \n",
    "print(\"This is the last line of program\")"
   ]
  },
  {
   "cell_type": "markdown",
   "id": "5391b1ca-9038-4d82-8b45-7a68c0d0fdfc",
   "metadata": {},
   "source": [
    "Q3. Which python statements are used to catch and handle exceptions? Explain with an example.\n",
    "\n",
    "ANS --> \n",
    "\n",
    "there are some componets of Exception handling that is used -->\n",
    "1. try \n",
    "2. except\n",
    "3. else\n",
    "4. raise\n",
    "5. finally\n",
    "\n",
    "try --> Inside the try block we write the code where is the possibliity of error occurance .\n",
    "\n",
    "except -->  Inside the except block we will give the code or statement when the error is occurred . except block statement will excute.\n",
    "\n",
    "else --> it is executed if no exceptionare raised within the try block \n",
    "\n",
    "raise --> the raise is used to when you want to create and raise your own exceptions .\n",
    "\n",
    "finally --> The block of finally executed allways . exception is occured or not . "
   ]
  },
  {
   "cell_type": "markdown",
   "id": "bbcd31e2-44f5-4689-840d-917bc9f2fee4",
   "metadata": {},
   "source": [
    "Q4. Explain with an exmaple:\n",
    "1. try and else\n",
    "2. finally \n",
    "3. raise\n",
    "\n",
    "1. \n",
    "\n",
    "try -->  Inside the try block we write the code where is the possibliity of error occurance .\n",
    "\n",
    "else --> it is executed if no exceptionare raised within the try block \n",
    "\n",
    "2.\n",
    "finally --> The block of finally executed allways . exception is occured or not . \n",
    "\n",
    "3.\n",
    "raise --> the raise is used to when you want to create and raise your own exceptions ."
   ]
  },
  {
   "cell_type": "code",
   "execution_count": null,
   "id": "44742c3b-e7e3-407f-bc20-bacc1765c394",
   "metadata": {},
   "outputs": [],
   "source": [
    "# CODE FOR Q4.\n",
    "try:\n",
    "    a = 10 \n",
    "    b = 0\n",
    "    c = a / b \n",
    "\n",
    "raise ZeroDivisionError:\n",
    "    print(\"Error is zero division\")\n",
    "\n",
    "else:\n",
    "    print(\"No error is occured\")\n",
    "    \n",
    "finally :\n",
    "    print(\"END of program\")"
   ]
  },
  {
   "cell_type": "markdown",
   "id": "7f072325-67d0-4551-a3d1-c20da74c72ca",
   "metadata": {},
   "source": [
    "Q5. What are Custom Exceptions in python? Why do we need Custome Exceptions? Explain with an Example.\n",
    "\n",
    "Ans --> In python Custom exceptions is used to create own exception and with own given statement after error is occured.\n",
    "\n",
    "need --> Python have prebuilt expection class that have only limited exception error types . custome exception helps to create infinite types of exception types in program. \n",
    "\n",
    "that why using the custom exception handling .\n"
   ]
  },
  {
   "cell_type": "code",
   "execution_count": 4,
   "id": "e163d1c0-7e8c-49aa-b6b2-613d63315f42",
   "metadata": {},
   "outputs": [
    {
     "name": "stdin",
     "output_type": "stream",
     "text": [
      "Enter Age -31\n"
     ]
    },
    {
     "name": "stdout",
     "output_type": "stream",
     "text": [
      "Enter age is not valid\n"
     ]
    }
   ],
   "source": [
    "#CODE FOR Q5.\n",
    "# CODE for custom exception handling \n",
    "class validate(Exception):\n",
    "    def __init__(self,msg):\n",
    "        self.msg = msg\n",
    "def age_validate(age):\n",
    "    if age == 0 or age < 0:\n",
    "        raise validate(\"Enter age is not valid\")\n",
    "    elif age > 200:\n",
    "        raise validate(\"Enter age is too high\")\n",
    "    else:\n",
    "        print(\"Age is valid\")\n",
    "try :\n",
    "    age = int(input(\"Enter Age\"))\n",
    "    age_validate(age)\n",
    "    \n",
    "except validate as e:\n",
    "    print(str(e))\n"
   ]
  },
  {
   "cell_type": "markdown",
   "id": "dc2b03e0-c13f-4985-a377-81bceecebbb4",
   "metadata": {},
   "source": [
    "Q6. Create a custom exception class. Use this class to handle an exception. "
   ]
  },
  {
   "cell_type": "code",
   "execution_count": 15,
   "id": "40cab9ae-f477-48f6-bf78-a90005307285",
   "metadata": {},
   "outputs": [
    {
     "name": "stdin",
     "output_type": "stream",
     "text": [
      "Enter Age 200\n"
     ]
    },
    {
     "name": "stdout",
     "output_type": "stream",
     "text": [
      "Enter age is too high\n"
     ]
    }
   ],
   "source": [
    "#CODE FOR Q5.\n",
    "# CODE for custom exception handling \n",
    "class validate(Exception):\n",
    "    def __init__(self,msg):\n",
    "        self.msg = msg\n",
    "def age_validate(age):\n",
    "    if age == 0 or age < 0:\n",
    "        raise validate(\"Enter age is not valid\")\n",
    "    elif age >=200:\n",
    "        raise validate(\"Enter age is too high\")\n",
    "    else:\n",
    "        print(\"Age is valid\")\n",
    "try :\n",
    "    age = int(input(\"Enter Age\"))\n",
    "    age_validate(age)\n",
    "    \n",
    "except validate as e:\n",
    "    print(str(e))\n"
   ]
  }
 ],
 "metadata": {
  "kernelspec": {
   "display_name": "Python 3 (ipykernel)",
   "language": "python",
   "name": "python3"
  },
  "language_info": {
   "codemirror_mode": {
    "name": "ipython",
    "version": 3
   },
   "file_extension": ".py",
   "mimetype": "text/x-python",
   "name": "python",
   "nbconvert_exporter": "python",
   "pygments_lexer": "ipython3",
   "version": "3.9.16"
  }
 },
 "nbformat": 4,
 "nbformat_minor": 5
}
