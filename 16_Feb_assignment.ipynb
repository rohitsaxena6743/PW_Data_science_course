{
 "cells": [
  {
   "cell_type": "markdown",
   "id": "3fece6ce-dc85-4aec-8eb3-2c4c629155e1",
   "metadata": {},
   "source": [
    "#### Q1. What is a database? Differentiate between SQL and NoSQL databases\n",
    "ANS -> \n",
    "Database --> Database is a structured collection of data that is stored in the organized way.\n",
    "data stored in the electoronically in a computer system. and it is controlled by a database management system.\n",
    "\n",
    "                                Sql V|S NoSQL\n",
    "\n",
    "Sql --> \n",
    "\n",
    "1. Databases are categorized as RDBMS.\n",
    "2. Data Stored in Row or Columns \n",
    "3. SQL database have predefined schema.\n",
    "4. SQL databases are vertically scalable.\n",
    "5. SQL databases are best suited for complex queries\n",
    "\n",
    "\n",
    "NoSQL --> \n",
    "\n",
    "1. Databases are categorized as Non_RDBMS or distributed.\n",
    "2. Data stored in the key - value pain , document , graph.\n",
    "3. NoSQL database have dynamic database schema.\n",
    "4. NoSQL databases are horizontally scalable.\n",
    "5. NoSQL databases are not so good for complex quiries because these are not as powerful as SQL queries."
   ]
  },
  {
   "cell_type": "markdown",
   "id": "3146cc0e-d084-4cee-9dda-fe547e207114",
   "metadata": {},
   "source": [
    "#### Q2. What is DDL? Explain why CREATE, DROP, ALTER, and TRUNCATE are used with an example.\n",
    "\n",
    "ANS ->\n",
    "\n",
    "DDL (Data Defination Language) ->\n",
    "\n",
    "DDL is used to define and manage, modify, delete  the strucutre of the database.\n",
    "\n",
    "1. CREATE -> \"CREATE\" statement is used to create a new database, tables , indexs.\n",
    "\n",
    "2. DROP -> \"DROP\" statment is used to delete already exits  tables, indexs,view's\n",
    "\n",
    "3. TRUNCATE -> \"TRUNCATE\" Statement is used to remove all data from an existing table, but it retains the table structure for future data insertion. \n",
    "\n",
    "\n"
   ]
  },
  {
   "cell_type": "markdown",
   "id": "d62ccc2f-224b-4133-823a-0824abc77a89",
   "metadata": {},
   "source": [
    "### Example\n",
    "\n",
    "Ex. 1.\n",
    "\n",
    "CREATE TABLE table_name (\n",
    "    column1 datatype1 constraints,\n",
    "    column2 datatype2 constraints,\n",
    ");\n",
    "\n",
    "\n",
    "Ex.2.\n",
    "DROP TABLE table_name;\n",
    "\n",
    "\n",
    "Ex.3. \n",
    "TRUNCATE TABLE table_name;\n",
    "\n",
    "\n",
    "\n"
   ]
  },
  {
   "cell_type": "markdown",
   "id": "65838eca-f73a-4812-b144-7cbdd9cf1a25",
   "metadata": {},
   "source": [
    "#### Q3. What is DML? Explain INSERT, UPDATE, and DELETE with an example.\n",
    "\n",
    "ANS ->\n",
    "\n",
    "DML(Data Manipulation Language)-> DML quries used to manage and manipulate data withing a realation data base. DML quries allow to perfomrm operation's like inserting new data , updating existing data and delete operation.\n",
    "\n",
    "1. INSERT : \"INSERT\" statement is used to add new records.it will help to insert data into table.\n",
    "\n",
    "2. UPDATE : \"UPDATE\" statement is used to updata the existing data in the table.\n",
    "\n",
    "3. DELETE : \"DELETE\" statement is used to delete records form the table."
   ]
  },
  {
   "cell_type": "markdown",
   "id": "510f25f3-5fa3-415c-8b6b-343d19de7116",
   "metadata": {},
   "source": [
    "#### Example\n",
    "Ex.1. \n",
    "INSERT INTO table_name (column1, column2, column3, ...)\n",
    "VALUES (value1, value2, value3, ...);\n",
    "\n",
    "\n",
    "Ex.2. \n",
    "UPDATE table_name\n",
    "SET column1 = value1, column2 = value2, ...\n",
    "WHERE condition;\n",
    "\n",
    "Ex.3.\n",
    "\n",
    "DELETE FROM table_name\n",
    "WHERE condition;\n"
   ]
  },
  {
   "cell_type": "markdown",
   "id": "47cca8e0-656c-4f70-9ce0-0100640ad133",
   "metadata": {},
   "source": [
    "#### Q4. What is DQL? Explain SELECT with an example.\n",
    "\n",
    "ANS -> \n",
    "\n",
    "DQL (Data Query Language) -> DQL is used to fatch data from the database. DQL command's mainly used to readind and retreving the data from the database without modifying the data.\n",
    "\n",
    "1. SELECT : \"SELECT\" statement is used to retrieve data from a database table.we can apply condition while fatching the data with the help of \"WHERE\" statement.\n",
    "\n",
    "Ex. \n",
    "qurery syntax -->\n",
    "\n",
    "SELECT emp_name, emp_job_title,FROM emp_data WHERE emp_salary == 40000;\n",
    "\n",
    "Expected Output --> \n",
    "\n",
    "    name           job_title     \n",
    " Rohit D      Software Engineer \n",
    " ROHIT E      Data Scientist    \n",
    " ROHIT V      DevOps Engineer  \n"
   ]
  },
  {
   "cell_type": "markdown",
   "id": "e3a33f18-aa6d-43e0-8d7e-72c20ff931e4",
   "metadata": {},
   "source": [
    "#### Q5. Explain Primary Key and Foreign Key.\n",
    "\n",
    "A. Primary Key -> \n",
    "1. Primary key is used to set unique data into a table. \n",
    "2. It helps to remove duplicasey of the data. \n",
    "3. table can only have one Primary key.\n",
    "4. Primary key ensure the data must be unique and not - null\n",
    "\n",
    "B. Foreign Key -> \n",
    "1. Foreing key is used to stablish a relationship between two tables.\n",
    "2. The values in the Foreign Key column of one table match the values in the Primary Key column of another table.\n",
    "3. A table can have multiple Foreign Keys  and they can be null to represent optional relationships."
   ]
  },
  {
   "cell_type": "markdown",
   "id": "65f3e092-6c45-4d0b-8299-50d979ba496e",
   "metadata": {},
   "source": [
    "#### Q6. Write a python code to connect MySQL to python. Explain the cursor() and execute() method.\n",
    "\n",
    "1. cursor() -> the cursor method is used to create cursor object and that allow you to execute sql query and fatch data from the database.\n",
    "\n",
    "2. execute() -> the execute method is used to sql qurery or sql statement with the use of cursor object.\n",
    "\n",
    "Ex. \n",
    "cursor = mydb.cursor() # creating cursor object\n",
    "print(cursor.execute(\"SHOW DATABASES\")) # printing and executing sql query."
   ]
  },
  {
   "cell_type": "code",
   "execution_count": 10,
   "id": "e30c23ad-0563-47ce-b2fc-70cd3931a175",
   "metadata": {},
   "outputs": [
    {
     "name": "stdout",
     "output_type": "stream",
     "text": [
      "None\n",
      "('information_schema',)\n",
      "('mysql',)\n",
      "('performance_schema',)\n",
      "('phpmyadmin',)\n",
      "('python_test',)\n",
      "('rohit',)\n",
      "('sql1',)\n",
      "('test',)\n"
     ]
    }
   ],
   "source": [
    "# CODE FOR Q6. \n",
    "\n",
    "import mysql.connector\n",
    "mydb = mysql.connector.connect(\n",
    "    host = \"127.0.0.1\",\n",
    "    user = \"root\",\n",
    "    password = \"\"\n",
    ")\n",
    "cursor = mydb.cursor()\n",
    "print(cursor.execute(\"SHOW DATABASES\"))\n",
    "for i in cursor:\n",
    "    print(i)"
   ]
  },
  {
   "cell_type": "markdown",
   "id": "1c658423-16c4-412b-b756-d8f2f29a13ad",
   "metadata": {},
   "source": [
    "#### Q7. Give the order of execution of SQL clauses in an SQL query\n",
    "\n",
    "ANS -->\n",
    "1. FROM clause: Specifies the tables from which data will be retrieved.\n",
    "2. JOIN clauses: If applicable, combine data from multiple tables based on specified conditions.\n",
    "3. WHERE clause: Filters the rows based on specified conditions.\n",
    "4. GROUP BY clause: Groups the rows based on specified columns.\n",
    "5. HAVING clause: Filters the groups based on specified conditions.\n",
    "6. SELECT clause: Selects the columns to be included in the result set.\n",
    "7. ORDER BY clause: Sorts the result set based on specified columns.\n",
    "8. LIMIT/OFFSET clause (if supported by the database): Limits the number of rows returned or skips a specified number of rows."
   ]
  }
 ],
 "metadata": {
  "kernelspec": {
   "display_name": "Python 3 (ipykernel)",
   "language": "python",
   "name": "python3"
  },
  "language_info": {
   "codemirror_mode": {
    "name": "ipython",
    "version": 3
   },
   "file_extension": ".py",
   "mimetype": "text/x-python",
   "name": "python",
   "nbconvert_exporter": "python",
   "pygments_lexer": "ipython3",
   "version": "3.9.16"
  }
 },
 "nbformat": 4,
 "nbformat_minor": 5
}
