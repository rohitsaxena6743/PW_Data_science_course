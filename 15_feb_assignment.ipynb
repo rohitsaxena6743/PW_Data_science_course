{
 "cells": [
  {
   "cell_type": "markdown",
   "id": "e4dca2db-b027-4ce6-94f7-958bfe1cfa21",
   "metadata": {},
   "source": [
    "#### Q1.What is multiprocessing in python? Why is it useful?\n",
    "\n",
    "ANS --> Mulitiprocessing allow to run multiple process at the same time. The operating system allocates these threads to the processors improving performance of the system.\n",
    "it will divide the works with multiple process.\n",
    "\n",
    "Advantages of using Multiprocessing --> \n",
    "\n",
    "1. Multiprocessing help's to run multiple processes at the same time\n",
    "2. it improved programm performance by utilizing cpu cores. that help's to reduce execution time.\n",
    "3. It imporved program stability because of each process operates independently.\n",
    "4. It help's to improve input/output operation's.\n"
   ]
  },
  {
   "cell_type": "markdown",
   "id": "9e93221a-8d18-43f1-8577-8c3bd67d7a24",
   "metadata": {},
   "source": [
    "#### Q2. What are the differences between multiprocessing and multithreading?\n",
    "\n",
    "ANS --> \n",
    "(a).  Concurrency Model\n",
    "\n",
    "1. MultiProcessing ->  In multiProcessing, separate processes are created, and each process has its own Python interpreter and memory space. These processes can run independently and run at the same time,  achieving true parallelism.\n",
    "\n",
    "2. MultiThreading ->  In multiThreading multiple threads are created within a single process  and they share the same Python interpreter and memory space.\n",
    "\n",
    "\n",
    "(b). Isolation \n",
    "\n",
    "1. MultiProcessing --> In multiProcessing each process has its own memory space. if there is any error occurs in one process does not affect others.\n",
    "\n",
    "2. MultiThreading --> In multiple Threading process share the same memory space. that's why sometime they occur some issues's. if not properly managed.\n",
    "\n",
    "(c). Execution \n",
    "\n",
    "1. MultiProcesing --> Many process are run at the same time.\n",
    "\n",
    "2. MultiThreading --> Many threads are run at the same time.\n",
    "\n",
    "(d). Process Creation \n",
    "\n",
    "1. MultiProcessing --> Process creation is time consuming process. \n",
    "2. MultiThreading --> Process creation is according to the economical."
   ]
  },
  {
   "cell_type": "markdown",
   "id": "53defd25-ccd4-4323-b8ea-05869f156717",
   "metadata": {},
   "source": [
    "#### Q3. Write a python code to create a process using the multiprocessing module.\n",
    "\n"
   ]
  },
  {
   "cell_type": "code",
   "execution_count": null,
   "id": "0caa210c-8577-430f-80bf-8d2bfe9d2ea4",
   "metadata": {},
   "outputs": [],
   "source": [
    "import multiprocessing \n",
    "def helll(n):\n",
    "    for i in range(n):\n",
    "        print(\"Hello PW_Team\")\n",
    "if __name__ == \"__main__\":        \n",
    "    p1 = multiprocessing.Process(target=helll,args=(10,))\n",
    "    p1.start()\n",
    "    p1.join()\n"
   ]
  },
  {
   "cell_type": "code",
   "execution_count": null,
   "id": "f41e929f-7997-4318-8d06-57eba35f8156",
   "metadata": {},
   "outputs": [],
   "source": [
    "import multiprocessing,time\n",
    "def hell():\n",
    "    print(\"hello\")\n",
    "if __name__ == \"__main__\":\n",
    "    p1 = multiprocessing.Process(target=hell,)\n",
    "    p1.start()\n",
    "    p1.join()"
   ]
  },
  {
   "cell_type": "markdown",
   "id": "726b0189-8867-431d-af8f-7d1ab38f548e",
   "metadata": {},
   "source": [
    "#### Q4. What is a multiprocessing pool in python? Why is it used?\n",
    "\n",
    "ANS -> \n",
    "\n",
    "Multiprocessing tool is used to create and run the process and managing a pool of worker processes to perform parallel computations. The Pool class allows you to distribute tasks across multiple processes taking advantage of multiple CPU cores or processors to speed up the processing of independent tasks."
   ]
  },
  {
   "cell_type": "markdown",
   "id": "93df85bc-4c3a-4002-9a58-9e78904dfac7",
   "metadata": {},
   "source": [
    "#### Q5. How can we create a pool of worker processes in python using the multiprocessing module?\n",
    "\n",
    "ANS -->\n",
    "\n"
   ]
  },
  {
   "cell_type": "code",
   "execution_count": null,
   "id": "ca6a1113-127d-4275-b12e-1ccfb36276d1",
   "metadata": {},
   "outputs": [],
   "source": [
    "# CODE FOR Q5 -> \n",
    "import time\n",
    "from multiprocessing import Pool\n",
    "\n",
    "\n",
    "def square(x):\n",
    "    print(f\"start process:{x}\")\n",
    "    square = x * x\n",
    "    print(f\"square {x}:{square}\")\n",
    "    time.sleep(1)\n",
    "    print(f\"end process:{x}\")\n",
    "\n",
    "\n",
    "if __name__ == \"__main__\":\n",
    "    starttime = time.time()\n",
    "    pool = Pool()\n",
    "    pool.map(square, range(0, 5))\n",
    "    pool.close()\n",
    "    endtime = time.time()\n",
    "    print(f\"Time taken {endtime-starttime} seconds\")"
   ]
  },
  {
   "cell_type": "markdown",
   "id": "02b28448-2eb3-44b4-a034-43fe0ae52cdc",
   "metadata": {},
   "source": [
    "#### Q6. Write a python program to create 4 processes, each process should print a different number using the multiprocessing module in python. "
   ]
  },
  {
   "cell_type": "code",
   "execution_count": null,
   "id": "9514ec4d-9332-4f62-a5c3-2afe51a96f09",
   "metadata": {},
   "outputs": [],
   "source": [
    "# CODE FOR Q6 -> \n",
    "\n",
    "import multiprocessing\n",
    "\n",
    "def print_number(number):\n",
    "    print(f\"Process {number}: My number is {number}\")\n",
    "\n",
    "if __name__ == \"__main__\":\n",
    "    processes = []\n",
    "    \n",
    "    for i in range(1, 5):\n",
    "        process = multiprocessing.Process(target=print_number, args=(i,))\n",
    "        processes.append(process)\n",
    "        process.start()\n",
    "    \n",
    "    for process in processes:\n",
    "        process.join()\n",
    "    \n",
    "    print(\"All processes have finished.\")\n"
   ]
  },
  {
   "cell_type": "code",
   "execution_count": null,
   "id": "4b07410c-748b-4e73-87b3-2e0dd430a22a",
   "metadata": {},
   "outputs": [],
   "source": []
  }
 ],
 "metadata": {
  "kernelspec": {
   "display_name": "Python 3 (ipykernel)",
   "language": "python",
   "name": "python3"
  },
  "language_info": {
   "codemirror_mode": {
    "name": "ipython",
    "version": 3
   },
   "file_extension": ".py",
   "mimetype": "text/x-python",
   "name": "python",
   "nbconvert_exporter": "python",
   "pygments_lexer": "ipython3",
   "version": "3.9.16"
  }
 },
 "nbformat": 4,
 "nbformat_minor": 5
}
