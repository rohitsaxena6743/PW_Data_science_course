{
 "cells": [
  {
   "cell_type": "markdown",
   "id": "bc839388-5c51-459a-8d5d-1fd066ef0bc9",
   "metadata": {},
   "source": [
    "Q1. Explain Class and Object with respect to Object-Oriented Programming. Give a suitable example.\n",
    "\n",
    "ANS --> \n",
    "\n",
    "Class --> In OOP , class is a blueprint or a template that defines the structure and behavior of objects. A class create a blueprint  for multiple objects of the same type which are instances of that class.\n",
    "\n",
    "Ojbect --> An Object is the isntance of the class, created by initializing the class properties with specific to the object."
   ]
  },
  {
   "cell_type": "code",
   "execution_count": 1,
   "id": "9aed41f0-d7fc-4c5d-a8ed-feca8807608e",
   "metadata": {},
   "outputs": [
    {
     "name": "stdout",
     "output_type": "stream",
     "text": [
      "ROHIT 18\n",
      "Krishna 18\n"
     ]
    }
   ],
   "source": [
    "# CODE FOR Q1.\n",
    "\n",
    "# creating a class with class keyword\n",
    "class name:\n",
    "    def __init__(self,name,age):\n",
    "        self.name = name\n",
    "        self.age = age\n",
    "    def get_data(self):\n",
    "        print(self.name,self.age)\n",
    "# Now creating object of name class\n",
    "\n",
    "obj1 = name(\"ROHIT\",18)\n",
    "obj2 = name(\"Krishna\",18)\n",
    "# Every object have some different data and print of a class\n",
    "\n",
    "obj1.get_data()\n",
    "obj2.get_data()"
   ]
  },
  {
   "cell_type": "markdown",
   "id": "5706884a-fe2a-474f-a235-45f31bbcb4b7",
   "metadata": {},
   "source": [
    "Q2. Name the four pillars of OOPs.\n",
    "\n",
    "ANS -->\n",
    "\n",
    "1. Encapsulation\n",
    "2. Abstraction \n",
    "3. Inheritance\n",
    "4. Polymorphism "
   ]
  },
  {
   "cell_type": "markdown",
   "id": "7c9f4d62-793a-457c-82c8-16a7ed763ceb",
   "metadata": {},
   "source": [
    "Q3. Explain why the __init__() function is used. Give a suitable example.\n",
    "\n",
    "ANS --> The __init__() is special method. it automatically called when the object of the class is created. in this method 'self' parameter is must required to pass on it.\n",
    "the __init()__ initializes an instance of the class.\n"
   ]
  },
  {
   "cell_type": "code",
   "execution_count": 10,
   "id": "aa03bc59-9db5-446e-a8b8-a62eb0154edc",
   "metadata": {},
   "outputs": [
    {
     "name": "stdout",
     "output_type": "stream",
     "text": [
      "The test class data --> 101 BCA\n"
     ]
    }
   ],
   "source": [
    "# CODE FOR Q3 -->\n",
    "class test:\n",
    "    # creatig the __init__() method \n",
    "    def __init__(self,stu_id,clas):\n",
    "        self.stu_id = stu_id\n",
    "        self.clas = clas\n",
    "        \n",
    "    def get_data(self):\n",
    "        print(\"The test class data -->\",self.stu_id,self.clas)\n",
    "# While creating the object of the test class it takes two values because of __init__method have two parameter\n",
    "\n",
    "obj = test(101,\"BCA\")\n",
    "obj.get_data()"
   ]
  },
  {
   "cell_type": "markdown",
   "id": "d46e0d5c-3a1f-4ec7-b731-69fad5ce42c3",
   "metadata": {},
   "source": [
    "Q4. Why self is used in OOPs?\n",
    "\n",
    "Ans --> Self is used to represent the instance of the class by using \"self\"  we can access the attributes and methods of the class in python. The attribute and methods of the class in python it binds the attibutes with given argumetns.\n",
    "\n",
    "It is a special variable that allows you to access the properties and methods of an object within its own class. \"Self\" acts as a reference to the current instance of the class and is typically the first parameter passed to methods defined within that class.\n",
    "\n",
    "-> Self is alway's pointing current object\n",
    "-> Self is the first argument to be passed in constructor to be passed in the constructor and instace method."
   ]
  },
  {
   "cell_type": "markdown",
   "id": "0ef37f4a-0f69-4e49-b99c-0e6b43016292",
   "metadata": {},
   "source": []
  },
  {
   "cell_type": "markdown",
   "id": "2182ecff-4c28-480a-ae2e-102e6fd0165c",
   "metadata": {},
   "source": [
    "Q5. What is inheritance? Give an example for each type of inheritance.\n",
    "\n",
    "Ans --> Inheritance allows us to define a class that inherits all the methods and properties from another class.\n",
    "\n",
    "\"Parent Class \" is the class being inherited from , also called base class\n",
    "\"Child Class\" . is the class access all the methods and properties from the parent class.\n",
    "\n",
    "Types Of Inheritance in Python --> \n",
    "\n",
    "1. Single inheritance \n",
    "2. Multiple inheritance\n",
    "3. Mulitilevel inheritance\n",
    "4. Hierarchical inheritance\n",
    "5. Hybrid inheritance"
   ]
  },
  {
   "cell_type": "code",
   "execution_count": 1,
   "id": "8708c5b3-8a6f-4eeb-a531-e8b11766edbc",
   "metadata": {},
   "outputs": [
    {
     "name": "stdout",
     "output_type": "stream",
     "text": [
      "HELLO I AM PARENT CLASS METHOD\n"
     ]
    }
   ],
   "source": [
    "# CODE FOR Q5. --> \n",
    "#Code for all the types of inheritance in python \n",
    "\n",
    "# 1. Single Inheritance example -->\n",
    "class prnt():\n",
    "    def hel():\n",
    "        print(\"HELLO I AM PARENT CLASS METHOD\")\n",
    "class child(prnt):\n",
    "    def __init__(self):\n",
    "        prnt.hel()\n",
    "obj_ch = child()"
   ]
  },
  {
   "cell_type": "code",
   "execution_count": 2,
   "id": "59edfdc9-cce8-458a-a8fe-f57353cd0994",
   "metadata": {},
   "outputs": [
    {
     "name": "stdout",
     "output_type": "stream",
     "text": [
      "NAME OF CAR --> FORTUNER   PRICE OF CAR --> 5000000\n"
     ]
    }
   ],
   "source": [
    "# 2. Multiple Inheritance Example -->\n",
    "class car():\n",
    "    car_name = \"FORTUNER\"\n",
    "    \n",
    "class price():\n",
    "    c_price = 5000000\n",
    "    \n",
    "class buy(car,price):\n",
    "    def __init__(self):\n",
    "        print(\"NAME OF CAR -->\",car.car_name,\"  PRICE OF CAR -->\",price.c_price)\n",
    "        \n",
    "obj_buy = buy()\n"
   ]
  },
  {
   "cell_type": "code",
   "execution_count": 3,
   "id": "1845ab1b-d5ac-44a2-be00-2fe7fda53b8d",
   "metadata": {},
   "outputs": [
    {
     "name": "stdout",
     "output_type": "stream",
     "text": [
      "Name of Laptop --> VICTUS   Processor Name --> i7  Price ---> 60000\n"
     ]
    }
   ],
   "source": [
    "# 3. Multilevel Inheritance Example -->\n",
    "\n",
    "class laptop():\n",
    "    laptop_name = \"VICTUS\"\n",
    "\n",
    "class processor(laptop):\n",
    "    processor_name = \"i7\"\n",
    "\n",
    "class price(processor):\n",
    "    def __init__(self,l_price):\n",
    "        self.l_price = l_price\n",
    "    def get(self):\n",
    "        print(\"Name of Laptop -->\",laptop.laptop_name,\"  Processor Name -->\",processor.processor_name,\" Price --->\",self.l_price)\n",
    "            \n",
    "obj_price = price(60000)\n",
    "obj_price.get()"
   ]
  },
  {
   "cell_type": "code",
   "execution_count": 4,
   "id": "65ddaae6-99cb-4f79-93f9-f7e769cac0e2",
   "metadata": {},
   "outputs": [
    {
     "name": "stdout",
     "output_type": "stream",
     "text": [
      "50\n"
     ]
    }
   ],
   "source": [
    "# 4. Hierarchical Inheritance Example\n",
    "class BaseClass:\n",
    "    base_a = 20\n",
    "\n",
    "class DerivedClass1(BaseClass):\n",
    "    dr1 = 30\n",
    "\n",
    "class DerivedClass2(BaseClass):\n",
    "    \n",
    "    def __init__(self):\n",
    "        print(BaseClass.base_a + DerivedClass1.dr1)\n",
    "        \n",
    "obj = DerivedClass2()\n"
   ]
  },
  {
   "cell_type": "code",
   "execution_count": 6,
   "id": "8914e23f-ea78-4235-97dc-1b05e9f901d0",
   "metadata": {},
   "outputs": [
    {
     "name": "stdout",
     "output_type": "stream",
     "text": [
      "The sum is --> 30\n"
     ]
    }
   ],
   "source": [
    "# 5. Hybrid Inheritance Example --->\n",
    "class BaseClass1:\n",
    "    a = 10\n",
    "\n",
    "class BaseClass2:\n",
    "    b = 20\n",
    "\n",
    "class IntermediateClass(BaseClass1):\n",
    "    c = BaseClass1.a \n",
    "\n",
    "class DerivedClass(IntermediateClass, BaseClass2):\n",
    "    d = 0\n",
    "    def __init__(self):\n",
    "        self.d = IntermediateClass.c  + BaseClass2.b \n",
    "    def get(self):\n",
    "        print(\"The sum is -->\",self.d)\n",
    "\n",
    "obj = DerivedClass()\n",
    "obj.get()"
   ]
  }
 ],
 "metadata": {
  "kernelspec": {
   "display_name": "Python 3 (ipykernel)",
   "language": "python",
   "name": "python3"
  },
  "language_info": {
   "codemirror_mode": {
    "name": "ipython",
    "version": 3
   },
   "file_extension": ".py",
   "mimetype": "text/x-python",
   "name": "python",
   "nbconvert_exporter": "python",
   "pygments_lexer": "ipython3",
   "version": "3.9.16"
  }
 },
 "nbformat": 4,
 "nbformat_minor": 5
}
