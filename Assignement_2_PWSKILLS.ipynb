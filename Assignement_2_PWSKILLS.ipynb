{
 "cells": [
  {
   "cell_type": "markdown",
   "id": "17ae8a5b-fa90-49ef-a2df-b34abe1e87b9",
   "metadata": {},
   "source": [
    "Q1. Which keyword is used to create a function? Create a function to return a list of odd numbers in the\n",
    "range of 1 to 25.\n",
    "\n",
    "ANS.  In python (def) keyword used to  define a funtion "
   ]
  },
  {
   "cell_type": "code",
   "execution_count": 4,
   "id": "c7e42e97-dc24-457b-a7e1-30ea3650452b",
   "metadata": {},
   "outputs": [
    {
     "data": {
      "text/plain": [
       "[1, 3, 5, 7, 9, 11, 13, 15, 17, 19, 21, 23, 25]"
      ]
     },
     "execution_count": 4,
     "metadata": {},
     "output_type": "execute_result"
    }
   ],
   "source": [
    "# CODE FOR Q1.\n",
    "def fun(ran_ge):\n",
    "    lis = []\n",
    "    for i in range(ran_ge):\n",
    "        if i % 2 == 1 :\n",
    "            lis.append(i)\n",
    "    return lis\n",
    "fun(26)"
   ]
  },
  {
   "cell_type": "markdown",
   "id": "6ff43539-9e85-4faa-b187-5cf11203a91d",
   "metadata": {},
   "source": [
    "Q2. Why *args and **kwargs is used in some functions? Create a function each for *args and **kwargs\n",
    "to demonstrate their use.\n",
    "\n",
    "*args --> Using * args we can pass N number of arguments in funtion. The           *args stors data in the Tuple data type formate..\n",
    "\n",
    "**kwargs --> The **kwargs use when we want to pass values in the pair foramte of key and value  like dictionary. it will return the dictionary "
   ]
  },
  {
   "cell_type": "code",
   "execution_count": 19,
   "id": "2ffc6f39-8c23-43ee-abcc-8c2e73dd7770",
   "metadata": {},
   "outputs": [
    {
     "name": "stdout",
     "output_type": "stream",
     "text": [
      "__________________________________________\n"
     ]
    },
    {
     "data": {
      "text/plain": [
       "{'a': [1, 2, 3, 4], 'rohit': 'saxena', 'c': (1, 2, 3, 4)}"
      ]
     },
     "execution_count": 19,
     "metadata": {},
     "output_type": "execute_result"
    }
   ],
   "source": [
    "# CODE FOR Q2.\n",
    "# USE OF *args -->\n",
    "def test(a,*args):\n",
    "    return a,args\n",
    "test(\"Use of *args -->\",\"rohit\",1,2,3,4,5,6,7)\n",
    "print(\"__________________________________________\")\n",
    "\n",
    "# USE OF **kwargs \n",
    "\n",
    "def test1(**kwargs):\n",
    "    return kwargs\n",
    "test1(a = [1,2,3,4] ,rohit= \"saxena\", c = (1,2,3,4))"
   ]
  },
  {
   "cell_type": "markdown",
   "id": "96dd9f3c-b27e-4450-9efa-ece4c5b94f52",
   "metadata": {},
   "source": [
    "Q3. What is an iterator in python? Name the method used to initialise the iterator object and the method\n",
    "used for iteration. Use these methods to print the first five elements of the given list [2, 4, 6, 8, 10, 12, 14,16, 18, 20].\n",
    "\n",
    "ANS --> In python iterator is sequence of character. it allow to traverse through collection of itmes.\n",
    "METHODS --> next(). iter()"
   ]
  },
  {
   "cell_type": "code",
   "execution_count": 21,
   "id": "3e39a901-98dc-4829-902a-5f5723662a6f",
   "metadata": {},
   "outputs": [
    {
     "name": "stdout",
     "output_type": "stream",
     "text": [
      "2\n",
      "4\n",
      "6\n",
      "8\n",
      "10\n"
     ]
    }
   ],
   "source": [
    "# CODE FOR Q3 .\n",
    "# python program to return 5 element from to the list\n",
    "lis =[2, 4, 6, 8, 10, 12, 14,16, 18, 20]\n",
    "number = iter(lis)\n",
    "for i in range(5):\n",
    "    print(next(number))"
   ]
  },
  {
   "cell_type": "markdown",
   "id": "eed8cd2c-1c31-4427-b862-ac6e850c5b84",
   "metadata": {},
   "source": [
    "Q4. What is a generator function in python? Why yield keyword is used? Give an example of a generator\n",
    "function.\n",
    "ANS --> A generator function is used to generate value as per the need . The generater fun generate value without sotring values in the memory. that makes it more faster."
   ]
  },
  {
   "cell_type": "code",
   "execution_count": 8,
   "id": "6c6d094f-3c4c-4f0b-b19c-5fb0f0fc6e1a",
   "metadata": {},
   "outputs": [
    {
     "name": "stdout",
     "output_type": "stream",
     "text": [
      "0\n",
      "1\n",
      "2\n",
      "3\n"
     ]
    }
   ],
   "source": [
    "#CODE for Q4. \n",
    "\n",
    "# Define a generator function in python ..\n",
    "\n",
    "def fun(ran_ge):\n",
    "    for i in range(ran_ge):\n",
    "        yield i \n",
    "obj = fun(5)\n",
    "print(next(obj))\n",
    "print(next(obj))\n",
    "print(next(obj))\n",
    "print(next(obj))"
   ]
  },
  {
   "cell_type": "markdown",
   "id": "87ff5ac9-70db-4bce-b67c-e4c65f58a8b0",
   "metadata": {},
   "source": [
    "Q5. Create a generator function for prime numbers less than 1000. Use the next() method to print the\n",
    "first 20 prime numbers."
   ]
  },
  {
   "cell_type": "code",
   "execution_count": 1,
   "id": "6c342e2c-f3f1-4a52-8972-3739ab9564ba",
   "metadata": {},
   "outputs": [
    {
     "name": "stdout",
     "output_type": "stream",
     "text": [
      "2\n",
      "3\n",
      "5\n",
      "7\n",
      "11\n",
      "13\n",
      "17\n",
      "19\n",
      "23\n",
      "29\n",
      "31\n",
      "37\n",
      "41\n",
      "43\n",
      "47\n",
      "53\n",
      "59\n",
      "61\n",
      "67\n",
      "71\n"
     ]
    }
   ],
   "source": [
    "def prime_generator():\n",
    "    primes = []\n",
    "    num = 2\n",
    "    while num < 1000:\n",
    "        is_prime = True\n",
    "        for prime in primes:\n",
    "            if num % prime == 0:\n",
    "                is_prime = False\n",
    "                break\n",
    "        if is_prime:\n",
    "            primes.append(num)\n",
    "            yield num\n",
    "        num += 1\n",
    "prime_gen = prime_generator()\n",
    "\n",
    "# Print the first 20 prime numbers\n",
    "for _ in range(20):\n",
    "    print(next(prime_gen))"
   ]
  },
  {
   "cell_type": "markdown",
   "id": "d20c6297-4826-4aa4-a70e-f2ad9e1b5fc9",
   "metadata": {},
   "source": [
    "Q6.Write a python program to print the first 10 Fibonacci numbers using a while loop."
   ]
  },
  {
   "cell_type": "code",
   "execution_count": 3,
   "id": "724b2678-5834-4bfa-8cc2-358e0ec4dc17",
   "metadata": {},
   "outputs": [
    {
     "name": "stdout",
     "output_type": "stream",
     "text": [
      "0\n",
      "1\n",
      "1\n",
      "2\n",
      "3\n",
      "5\n",
      "8\n",
      "13\n",
      "21\n",
      "34\n",
      "55\n",
      "89\n",
      "144\n",
      "233\n",
      "377\n",
      "610\n",
      "987\n",
      "1597\n",
      "2584\n",
      "4181\n",
      "6765\n",
      "10946\n",
      "17711\n"
     ]
    }
   ],
   "source": [
    "# CODE FOR Q6.\n",
    "# program to create fibonacci series\n",
    "a = 0 \n",
    "b = 1\n",
    "count = 0\n",
    "print(a)\n",
    "print(b)\n",
    "while count <= 20:\n",
    "    c = a+b\n",
    "    a = b\n",
    "    b = c\n",
    "    print(c)\n",
    "    count += 1"
   ]
  },
  {
   "cell_type": "markdown",
   "id": "0205fb34-2093-4c55-bb6f-6d3670b9edf0",
   "metadata": {},
   "source": [
    "Q7. Write a List Comprehension to iterate through the given string: ‘pwskills’.\n",
    "Expected output: ['p', 'w', 's', 'k', 'i', 'l', 'l', 's']"
   ]
  },
  {
   "cell_type": "code",
   "execution_count": 4,
   "id": "706194e7-1e79-4bc9-b85a-687ae500bd17",
   "metadata": {},
   "outputs": [
    {
     "name": "stdout",
     "output_type": "stream",
     "text": [
      "['p', 'w', 's', 'k', 'i', 'l', 'l', 's']\n"
     ]
    }
   ],
   "source": [
    "# CODE FOR Q7.\n",
    "a = \"pwskills\"\n",
    "lis = []\n",
    "for i in a:\n",
    "    lis.append(i)\n",
    "print(lis)"
   ]
  },
  {
   "cell_type": "markdown",
   "id": "d6a40cf6-8341-4c9b-9dc3-267b1138afa7",
   "metadata": {},
   "source": [
    "Q8. Write a python program to check whether a given number is Palindrome or not using a while loop."
   ]
  },
  {
   "cell_type": "code",
   "execution_count": 12,
   "id": "30606496-3984-4250-b4c2-3b2ff39be85f",
   "metadata": {},
   "outputs": [
    {
     "name": "stdin",
     "output_type": "stream",
     "text": [
      "Enter a number: 121\n"
     ]
    },
    {
     "name": "stdout",
     "output_type": "stream",
     "text": [
      "121 is a palindrome\n"
     ]
    }
   ],
   "source": [
    "# CODE FOR Q7.\n",
    "def palindrome(number):\n",
    "    original_no = number\n",
    "    revrs = 0\n",
    "\n",
    "    while number > 0:\n",
    "        digit = number % 10\n",
    "        revrs = (revrs * 10) + digit\n",
    "        number = number // 10\n",
    "\n",
    "    if original_no == revrs:\n",
    "        return True\n",
    "    else:\n",
    "        return False\n",
    "\n",
    "num = int(input(\"Enter a number:\"))\n",
    "\n",
    "if palindrome(num):\n",
    "    print(num, \"is a palindrome\")\n",
    "else:\n",
    "    print(num, \"is not a palindrome\")"
   ]
  },
  {
   "cell_type": "markdown",
   "id": "eba2cb2a-cc90-4a99-bbb9-87b4c26bc6cd",
   "metadata": {},
   "source": [
    "Q9. Write a code to print odd numbers from 1 to 100 using list comprehension."
   ]
  },
  {
   "cell_type": "code",
   "execution_count": 10,
   "id": "2c4d0b6a-e7d0-49b3-bd35-cc5f8b12639e",
   "metadata": {},
   "outputs": [
    {
     "name": "stdout",
     "output_type": "stream",
     "text": [
      "[1, 3, 5, 7, 9, 11, 13, 15, 17, 19, 21, 23, 25, 27, 29, 31, 33, 35, 37, 39, 41, 43, 45, 47, 49, 51, 53, 55, 57, 59, 61, 63, 65, 67, 69, 71, 73, 75, 77, 79, 81, 83, 85, 87, 89, 91, 93, 95, 97, 99]\n"
     ]
    }
   ],
   "source": [
    "# Code for Q9\n",
    "lis = list(range(1,100))\n",
    "odd_numbers = [ a for a in lis if a % 2 == 1]\n",
    "print(odd_numbers)"
   ]
  }
 ],
 "metadata": {
  "kernelspec": {
   "display_name": "Python 3 (ipykernel)",
   "language": "python",
   "name": "python3"
  },
  "language_info": {
   "codemirror_mode": {
    "name": "ipython",
    "version": 3
   },
   "file_extension": ".py",
   "mimetype": "text/x-python",
   "name": "python",
   "nbconvert_exporter": "python",
   "pygments_lexer": "ipython3",
   "version": "3.9.16"
  }
 },
 "nbformat": 4,
 "nbformat_minor": 5
}
