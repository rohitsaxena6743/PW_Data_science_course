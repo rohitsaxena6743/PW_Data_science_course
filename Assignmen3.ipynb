{
 "cells": [
  {
   "cell_type": "markdown",
   "id": "301cce4f-8186-409f-bff9-bf489dd39781",
   "metadata": {},
   "source": [
    "Q1. Create a python program to sort the given list of tuples based on integer value using a\n",
    "lambda function.\n",
    "[('Sachin Tendulkar', 34357), ('Ricky Ponting', 27483), ('Jack Kallis', 25534), ('Virat Kohli', 24936)]"
   ]
  },
  {
   "cell_type": "code",
   "execution_count": 5,
   "id": "b5f0ca68-2a2f-4d47-b189-670bb6712e61",
   "metadata": {},
   "outputs": [
    {
     "name": "stdout",
     "output_type": "stream",
     "text": [
      "[('Jack Kallis', 25534), ('Ricky Ponting', 27483), ('Sachin Tendulkar', 34357), ('Virat Kohli', 24936)]\n"
     ]
    }
   ],
   "source": [
    "# CODE FOR Q1\n",
    "lis_value = [('Sachin Tendulkar', 34357), ('Ricky Ponting', 27483), ('Jack Kallis', 25534), ('Virat Kohli', 24936)]\n",
    "sort = lambda liss : sorted(lis)\n",
    "print(sort(lis_value))"
   ]
  },
  {
   "cell_type": "markdown",
   "id": "42712c95-b1f0-44a4-9d2a-e76d362bbfa9",
   "metadata": {},
   "source": [
    "Q2. Write a Python Program to find the squares of all the numbers in the given list of integers using\n",
    "lambda and map functions.\n",
    "[1, 2, 3, 4, 5, 6, 7, 8, 9, 10]"
   ]
  },
  {
   "cell_type": "code",
   "execution_count": 8,
   "id": "65358426-c08c-43f1-8787-232110580043",
   "metadata": {},
   "outputs": [
    {
     "name": "stdout",
     "output_type": "stream",
     "text": [
      "[1, 4, 9, 16, 25, 36, 49, 64, 81, 100]\n"
     ]
    }
   ],
   "source": [
    "# CODE FOR Q2.\n",
    "lis = [ 1,2,3,4,5,6,7,8,9,10 ]\n",
    "result = map(lambda x : x ** 2 , lis)\n",
    "print(list(result))"
   ]
  },
  {
   "cell_type": "markdown",
   "id": "5a0de086-51de-4de8-8e02-904ed1bb2000",
   "metadata": {},
   "source": [
    "Q3. Write a python program to convert the given list of integers into a tuple of strings. Use map and\n",
    "lambda functions\n",
    "Given String: [1, 2, 3, 4, 5, 6, 7, 8, 9, 10]\n",
    "Expected output: ('1', '2', '3', '4', '5', '6', '7', '8', '9', '10')"
   ]
  },
  {
   "cell_type": "code",
   "execution_count": 16,
   "id": "b7210a7b-97ef-473a-9398-3bc857026d40",
   "metadata": {},
   "outputs": [
    {
     "name": "stdout",
     "output_type": "stream",
     "text": [
      "('1', '2', '3', '4', '5', '6', '7', '8', '9', '10')\n"
     ]
    }
   ],
   "source": [
    "# CODE FOR Q3. \n",
    "val= [1, 2, 3, 4, 5, 6, 7, 8, 9, 10]\n",
    "lis = []\n",
    "result = map(lambda x : str(x),val)\n",
    "tuplee = tuple(list(result))\n",
    "print(tuplee)"
   ]
  },
  {
   "cell_type": "markdown",
   "id": "6b392b58-abed-4d3b-917a-14b8eb38e479",
   "metadata": {},
   "source": [
    "Q4. Write a python program using reduce function to compute the product of a list containing numbers\n",
    "from 1 to 25."
   ]
  },
  {
   "cell_type": "code",
   "execution_count": 19,
   "id": "4a5b83a8-2f57-4380-a9c0-3900fd510127",
   "metadata": {},
   "outputs": [
    {
     "name": "stdout",
     "output_type": "stream",
     "text": [
      "The product of list from 1 - 25 --->> 15511210043330985984000000\n"
     ]
    }
   ],
   "source": [
    "# CODE FOR Q4.\n",
    "from functools import reduce\n",
    "lis = [1,2,3,4,5,6,7,8,9,10,11,12,13,14,15,16,17,18,19,20,21,22,23,24,25]\n",
    "\n",
    "result = reduce(lambda x,y: x*y,lis)\n",
    "print(\"The product of list from 1 - 25 --->>\",result)"
   ]
  },
  {
   "cell_type": "markdown",
   "id": "5c3fca04-0fdb-4f9c-ba74-85053694b091",
   "metadata": {},
   "source": [
    "Q5. Write a python program to filter the numbers in a given list that are divisible by 2 and 3 using the\n",
    "filter function.\n",
    "[2, 3, 6, 9, 27, 60, 90, 120, 55, 46]"
   ]
  },
  {
   "cell_type": "code",
   "execution_count": 20,
   "id": "5c075066-16ea-481b-962a-2839412a2ad9",
   "metadata": {},
   "outputs": [
    {
     "name": "stdout",
     "output_type": "stream",
     "text": [
      "[2, 3, 6, 9, 27, 60, 90, 120, 46]\n"
     ]
    }
   ],
   "source": [
    "# CODE FOR Q5.\n",
    "lis = [2, 3, 6, 9, 27, 60, 90, 120, 55, 46]\n",
    "result = filter(lambda x : x % 2 == 0 or x % 3 == 0,lis)\n",
    "print(list(result))"
   ]
  },
  {
   "cell_type": "markdown",
   "id": "b0c4a164-95de-4973-94fa-e6d31e169179",
   "metadata": {},
   "source": [
    "Q6. Write a python program to find palindromes in the given list of strings using lambda and filter\n",
    "function.\n",
    "['python', 'php', 'aba', 'radar', 'level']"
   ]
  },
  {
   "cell_type": "code",
   "execution_count": 21,
   "id": "3c1952d6-c189-4abb-af5c-badecb4854a6",
   "metadata": {},
   "outputs": [
    {
     "name": "stdout",
     "output_type": "stream",
     "text": [
      "['php', 'aba', 'radar', 'level']\n"
     ]
    }
   ],
   "source": [
    "# CODE FOR Q6.\n",
    "lis = ['python', 'php', 'aba', 'radar', 'level']\n",
    "result = filter(lambda x : x[::-1] == x , lis)\n",
    "print(list(result))\n"
   ]
  }
 ],
 "metadata": {
  "kernelspec": {
   "display_name": "Python 3 (ipykernel)",
   "language": "python",
   "name": "python3"
  },
  "language_info": {
   "codemirror_mode": {
    "name": "ipython",
    "version": 3
   },
   "file_extension": ".py",
   "mimetype": "text/x-python",
   "name": "python",
   "nbconvert_exporter": "python",
   "pygments_lexer": "ipython3",
   "version": "3.9.16"
  }
 },
 "nbformat": 4,
 "nbformat_minor": 5
}
