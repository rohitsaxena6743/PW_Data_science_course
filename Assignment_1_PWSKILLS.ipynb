{
 "cells": [
  {
   "cell_type": "markdown",
   "id": "f20448cb-ef64-42f7-878c-9f35d83de090",
   "metadata": {},
   "source": [
    "Q1. How do you comment code in python ? what are the different types of commments?\n",
    "Ans ..\n",
    "In python be can use # symbol to use comment in program and we can use\n",
    "\"\"\" comment  \"\"\"  3 pair of dobule quotes of single quotes to use comment in python .."
   ]
  },
  {
   "cell_type": "code",
   "execution_count": 1,
   "id": "ad5340f0-d024-4128-9816-3ee63767fe12",
   "metadata": {
    "tags": []
   },
   "outputs": [
    {
     "name": "stdout",
     "output_type": "stream",
     "text": [
      "The upper is not executed because it is comment \n"
     ]
    }
   ],
   "source": [
    "# cooment in python \n",
    "\"\"\" comment in python 2 method\"\"\"\n",
    "''' Hello this is commment '''\n",
    "print(\"The upper is not executed because it is comment \")"
   ]
  },
  {
   "cell_type": "markdown",
   "id": "a3b43180-d27c-4c77-96e9-10d2a6a3e1d4",
   "metadata": {},
   "source": [
    "Q2. What are variable in python? How do you declare and assign values to vairables ?\n",
    "Ans. \n",
    "Variable is name of memory allocation that store memory for a short time.\n",
    "it is name or identifire that represents a value in python programm."
   ]
  },
  {
   "cell_type": "code",
   "execution_count": 2,
   "id": "25cb9f75-1b4a-490c-9d93-488de0c59ef3",
   "metadata": {},
   "outputs": [
    {
     "name": "stdout",
     "output_type": "stream",
     "text": [
      "1000000\n"
     ]
    }
   ],
   "source": [
    "# code for variable \n",
    "rohit = 1000000 # this is variable \n",
    "print(rohit) # accessing the variable "
   ]
  },
  {
   "cell_type": "markdown",
   "id": "9fee9b2e-4eff-4ead-a540-6154ff8fea1d",
   "metadata": {},
   "source": [
    "Q3. How do you convert one data type to another in python ?\n",
    "Ans.\n",
    "In python we can use predefine function to convert the data types..\n",
    "* str() --> it convert the data into string \n",
    "* int() --> it convert the data into integer values\n",
    "* float() --> it convert the data into floating point values\n",
    "* complex() --> it convert the values into complex number"
   ]
  },
  {
   "cell_type": "code",
   "execution_count": 7,
   "id": "b656bd66-cd28-4838-b3cc-c5cea154707d",
   "metadata": {
    "tags": []
   },
   "outputs": [
    {
     "name": "stdout",
     "output_type": "stream",
     "text": [
      "<class 'str'>\n",
      "<class 'float'>\n",
      "<class 'complex'>\n"
     ]
    }
   ],
   "source": [
    "# Let's take have code of converstion in python\n",
    "a = 123\n",
    "s = str(a) # it will convert the data into string\n",
    "print(type(s)) # check the type of s variable after converstion \n",
    "\n",
    "# Let's take another example of converstion \n",
    "\n",
    "r = 786 \n",
    "ss = float(r) # convert it into floating point \n",
    "print(type(ss)) \n",
    "\n",
    "com = complex(r)\n",
    "print(type(com)) "
   ]
  },
  {
   "cell_type": "code",
   "execution_count": null,
   "id": "4baaae80-cf68-4346-b39a-b9dad4336a06",
   "metadata": {},
   "outputs": [],
   "source": [
    "Q4. How do you write and execute a python script from the command line?\n",
    "Ans.\n",
    "\n",
    "1.First we create a file with .py extension. and write down lines of code \n",
    "python after complition the code. \n",
    "2.Go to command line and go to file location where the python file is\n",
    "saved .\n",
    "3. type python file_name.py and press enter \n",
    "4. The python file execute."
   ]
  },
  {
   "cell_type": "markdown",
   "id": "93b299f7-90b1-4ca6-9440-0f97156872fe",
   "metadata": {},
   "source": [
    "Q5. Given a list my_list = [1, 2, 3, 4, 5], write the code to slice the list and obtain the sub-list [2, 3]."
   ]
  },
  {
   "cell_type": "code",
   "execution_count": 9,
   "id": "e4bc11b7-00ac-4b13-a57b-3e96cc5c3084",
   "metadata": {},
   "outputs": [
    {
     "name": "stdout",
     "output_type": "stream",
     "text": [
      "[2, 3]\n"
     ]
    }
   ],
   "source": [
    "# Code of Q5 \n",
    "my_list = [1,2,3,4,5]\n",
    "sub_list = my_list[1:3]\n",
    "print(sub_list)"
   ]
  },
  {
   "cell_type": "markdown",
   "id": "428576a0-912a-4170-867c-bd4afa47d6ea",
   "metadata": {},
   "source": [
    "Q.6. What is a complex number in mathematics, and how is it represented in Python?\n",
    "\n",
    "Ans. \n",
    "In  mathematics, a complex number is a number that can be expressed in the form a + bi, where a and b are real numbers, and i represents the imaginary unit. The imaginary unit i is defined as the square root of -1.\n",
    "\n",
    "In python be represent complex no. as 2 + 3j "
   ]
  },
  {
   "cell_type": "code",
   "execution_count": 10,
   "id": "6135257a-56e0-487c-9191-4b1a74d198a9",
   "metadata": {},
   "outputs": [
    {
     "name": "stdout",
     "output_type": "stream",
     "text": [
      "<class 'complex'>\n",
      "(3+5j)\n"
     ]
    }
   ],
   "source": [
    "# Code for Q6.\n",
    "a = 3+ 5j\n",
    "print(type(a))\n",
    "print(a)"
   ]
  },
  {
   "cell_type": "markdown",
   "id": "90997d5b-981e-47d0-8da9-dc45d5afcdef",
   "metadata": {},
   "source": [
    "Q.7 What is the correct way to declare a variable named age and assign the value 25 to it?\n",
    "\n",
    "Ans . TO declare a variable with its purpose . declare with its name to easy to understand ."
   ]
  },
  {
   "cell_type": "code",
   "execution_count": 11,
   "id": "e46955c1-1299-40f9-a619-a1350b5de0e7",
   "metadata": {},
   "outputs": [
    {
     "name": "stdout",
     "output_type": "stream",
     "text": [
      "25\n"
     ]
    }
   ],
   "source": [
    "# Code For Q7.\n",
    "age = 25 # declare the variable \n",
    "print(age)"
   ]
  },
  {
   "cell_type": "markdown",
   "id": "542b8755-6559-48ba-973b-e4096ed9775d",
   "metadata": {},
   "source": [
    "Q8. Declare a variable named price and assign the value 9.99 to it. What data type does this variable\n",
    "belong to?"
   ]
  },
  {
   "cell_type": "code",
   "execution_count": 13,
   "id": "a508431d-2d56-4736-8fd9-a71eacb4d216",
   "metadata": {},
   "outputs": [
    {
     "name": "stdout",
     "output_type": "stream",
     "text": [
      "<class 'float'>\n",
      "this variable is : <class 'float'> Type\n"
     ]
    }
   ],
   "source": [
    "# Code for Q8.\n",
    "price = 9.99 # declaring the variable\n",
    "print(type(price)) # checking the type of variable\n",
    "print(\"this variable is :\",type(price), \"Type\")"
   ]
  },
  {
   "cell_type": "markdown",
   "id": "98a1852e-f0f2-4b72-a56e-3a91308ea8d4",
   "metadata": {},
   "source": [
    "Q9. Create a variable named name and assign your full name to it as a string. How would you print the\n",
    "value of this variable?"
   ]
  },
  {
   "cell_type": "code",
   "execution_count": null,
   "id": "8614aabe-7c14-470c-baeb-dde8f8734048",
   "metadata": {},
   "outputs": [],
   "source": [
    "# Code for Q9.\n",
    "name = \"ROHIT\"\n",
    "print(name) # print the name we use print() function."
   ]
  },
  {
   "cell_type": "markdown",
   "id": "0a61df87-72fe-45bc-9948-1f09ed854c01",
   "metadata": {},
   "source": [
    "Q10. Given the string \"Hello, World!\", extract the substring \"World\"."
   ]
  },
  {
   "cell_type": "code",
   "execution_count": 14,
   "id": "67cc03f0-975b-4914-8689-6e317a001e76",
   "metadata": {},
   "outputs": [
    {
     "name": "stdout",
     "output_type": "stream",
     "text": [
      " World\n"
     ]
    }
   ],
   "source": [
    "# Code for Q10.\n",
    "String = \"Hello, World!\"\n",
    "print(String[6:12])"
   ]
  },
  {
   "cell_type": "markdown",
   "id": "08d1422d-f3cb-4ee5-b259-73ce7a1413b2",
   "metadata": {},
   "source": [
    "Q11. Create a variable named \"is_student\" and assign it a boolean value indicating whether you are\n",
    "currently a student or not."
   ]
  },
  {
   "cell_type": "code",
   "execution_count": 15,
   "id": "786b50d1-e16f-420f-8dba-6edcd560b1a9",
   "metadata": {},
   "outputs": [
    {
     "name": "stdout",
     "output_type": "stream",
     "text": [
      "You are a student\n"
     ]
    }
   ],
   "source": [
    "# Code for Q11.\n",
    "is_student = True\n",
    "if is_student == True:\n",
    "    print(\"You are a student\")\n",
    "else:\n",
    "    print(\"You are not a student\")"
   ]
  }
 ],
 "metadata": {
  "kernelspec": {
   "display_name": "Python 3 (ipykernel)",
   "language": "python",
   "name": "python3"
  },
  "language_info": {
   "codemirror_mode": {
    "name": "ipython",
    "version": 3
   },
   "file_extension": ".py",
   "mimetype": "text/x-python",
   "name": "python",
   "nbconvert_exporter": "python",
   "pygments_lexer": "ipython3",
   "version": "3.9.16"
  }
 },
 "nbformat": 4,
 "nbformat_minor": 5
}
