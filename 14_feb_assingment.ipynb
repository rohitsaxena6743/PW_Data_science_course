{
 "cells": [
  {
   "cell_type": "markdown",
   "id": "a01320c3-3c55-444b-9510-0e4149796250",
   "metadata": {},
   "source": [
    "### Q1 what is multithreading in python? why is it used? Name the module used to handle threads in python? "
   ]
  },
  {
   "cell_type": "markdown",
   "id": "7596b139-cd8b-4706-a56a-a1d6971eb01d",
   "metadata": {},
   "source": [
    "ANS  Q1-->  Mulitithreading in python help's to run multiple threads at the same time in the single process.\n",
    "* Multithreading is used to improve the performance of a program by allowing multiple threads to run concurrently.\n",
    "* Multithreading can also be used to divide a task into separate sections that can be executed concurrently. This can improve the performance of the program by taking advantage of multiple CPU cores.\n",
    "* \"threading\" module used to process multithreading in the python program."
   ]
  },
  {
   "cell_type": "markdown",
   "id": "b9906817-a210-439a-9f2b-060299e68496",
   "metadata": {},
   "source": [
    "#### Q2. Why threading module used? write the use of the following functions:\n",
    "1. activeCount()\n",
    "2. currentThread()\n",
    "3. enumerate()"
   ]
  },
  {
   "cell_type": "markdown",
   "id": "dbee19b6-4fe8-42f9-8b2a-2b8f23d1d5ab",
   "metadata": {},
   "source": [
    "ANS Q2--> \n",
    "* It provide concurrency  to excute multiple task at the single time\n",
    "* Responsiveness:  keep the program interactive even during time-consuming operations.\n",
    "* It helps Input/Output operations work more effectively without blocking\n",
    "* it provide multitasking to perform several tasks simultaneously.\n",
    "\n",
    "1.activeCount() -->  It  is used to count how many thread currently activated.\n",
    "\n",
    "2.currentThread() --> It is used to retrive the current thread object and represent the currnet thread.\n",
    "\n",
    "3.enumerate() --> enumerate function in used to iterate over an sequence. it returns an iterator that get tuple containg in index and the item from the original sequence. \n",
    "\n",
    "SYNTAX --> enumerate(iterable, start=0)\n",
    "\n",
    "iterable : here we will pass a sequence\n",
    "\n",
    "start : here we will give a position where to start enumerating.\n"
   ]
  },
  {
   "cell_type": "code",
   "execution_count": 13,
   "id": "26d478e3-50a4-49b5-a0dd-1b354d8f90d6",
   "metadata": {},
   "outputs": [
    {
     "name": "stdout",
     "output_type": "stream",
     "text": [
      "Currently Active Thread --> <Thread(Thread-29, started 17672)>\n",
      "0\n",
      "1\n",
      "Currently Active Thread --> <Thread(Thread-30, started 3456)>\n",
      "0\n",
      "1\n",
      "Currently active Thread --> 6\n",
      "_________________________________________________________\n",
      "\n",
      "Example for enumerate function() \n",
      "\n",
      "Index is -> 0  And Value is --> apple\n",
      "Index is -> 1  And Value is --> banana\n",
      "Index is -> 2  And Value is --> mango\n",
      "Index is -> 3  And Value is --> kiwi\n"
     ]
    }
   ],
   "source": [
    "# CODE FOR Q2. \n",
    "import threading \n",
    "\n",
    "def fun1(a):\n",
    "    print(\"Currently Active Thread -->\",threading.currentThread())\n",
    "    for i in range(a):\n",
    "        print(i)\n",
    "def fun2(b):\n",
    "    print(\"Currently Active Thread -->\",threading.currentThread())\n",
    "    for i in range(b):\n",
    "        print(i)\n",
    "        \n",
    "t1 = threading.Thread(target=fun1,args=[2])\n",
    "t2 = threading.Thread(target=fun2,args=[2])\n",
    "t1.start()\n",
    "t2.start()\n",
    "print(\"Currently active Thread -->\",threading.activeCount())\n",
    "print(\"_________________________________________________________\\n\")\n",
    "print(\"Example for enumerate function() \\n\")\n",
    "\n",
    "lis = [\"apple\",\"banana\",\"mango\",\"kiwi\"]\n",
    "\n",
    "for index,value in enumerate(lis):\n",
    "    print(\"Index is ->\",index,\" And Value is -->\",value)"
   ]
  },
  {
   "cell_type": "markdown",
   "id": "f3cc11af-10aa-47bb-a500-1b13a5e9f98d",
   "metadata": {},
   "source": [
    "##### Q3. Explain the following fucntion:\n",
    "* run()\n",
    "* start()\n",
    "* join()\n",
    "* isAlive()\n",
    "\n",
    "1. run() --> When you create a custom thread by subclass you can override the 'run' method to define the code that should be executed when the thread is started.\n",
    "\n",
    "2. start() --> start method help's to exceute the thread.\n",
    "\n",
    "3. join() --> join method wait for a thread to complete its execution and then continue with the rest of the code.\n",
    "\n",
    "4. isAlive() --> isAlive method is used to check thread is active or currently running. it will return True is thread is currently in running process."
   ]
  },
  {
   "cell_type": "code",
   "execution_count": 37,
   "id": "491f8469-0719-4e1c-adc4-587aaed1940b",
   "metadata": {},
   "outputs": [
    {
     "name": "stdout",
     "output_type": "stream",
     "text": [
      "currnt status of thread --> True\n",
      "Hello PW_Skills_team\n",
      "Happy happy 😊\n",
      "Happy happy 😊Hello PW_Skills_team\n",
      "\n",
      "Currnet status of thread -->  False\n"
     ]
    }
   ],
   "source": [
    "# CODE FOR Q3 -->\n",
    "\n",
    "import threading,time\n",
    "def fun1():\n",
    "    print(\"currnt status of thread -->\",t1.is_alive())\n",
    "    for i in range(2):\n",
    "        time.sleep(2)\n",
    "        print(\"Hello PW_Skills_team\")\n",
    "def fun2():\n",
    "    for i in range(2):\n",
    "        time.sleep(2)\n",
    "        print(\"Happy happy 😊\")\n",
    "\n",
    "t1 = threading.Thread(target=fun1)\n",
    "t2 = threading.Thread(target=fun2)\n",
    "\n",
    "t1.start()\n",
    "t2.start()\n",
    "t1.join()\n",
    "t2.join()\n",
    "print(\"Currnet status of thread --> \",t1.is_alive())\n",
    "\n"
   ]
  },
  {
   "cell_type": "markdown",
   "id": "b2d6651c-37b4-4a1f-89ca-7c43369d3fcb",
   "metadata": {},
   "source": [
    "#### Q4. Write a python program to create two threads. Thread one must print the list of squares and thread two must print list of cubes.\n"
   ]
  },
  {
   "cell_type": "code",
   "execution_count": 61,
   "id": "7f31eb88-5b45-4f39-bbe6-9a35f12bde97",
   "metadata": {},
   "outputs": [
    {
     "name": "stdout",
     "output_type": "stream",
     "text": [
      "Sqr --> 1\n",
      "Sqr --> 4\n",
      "Sqr --> 16\n",
      "Sqr --> 25\n",
      "Sqr --> 36\n",
      "Sqr --> 49\n",
      "Sqr --> 64\n",
      "Sqr --> 81\n",
      "\n",
      "Que --> 1\n",
      "Que --> 8\n",
      "Que --> 64\n",
      "Que --> 125\n",
      "Que --> 216\n",
      "Que --> 343\n",
      "Que --> 512\n",
      "Que --> 729\n"
     ]
    }
   ],
   "source": [
    "#CODE FOR Q4.\n",
    "\n",
    "import threading,time\n",
    "\n",
    "lis = [1,2,4,5,6,7,8,9]\n",
    "\n",
    "def fun1(a):\n",
    "    for i in a:\n",
    "        print(\"Sqr -->\",i ** 2)\n",
    "\n",
    "def fun2(a):\n",
    "    for i in lis:\n",
    "        print(\"Que -->\",i ** 3)\n",
    "\n",
    "t1 = threading.Thread(target=fun1,args=(lis,))\n",
    "t2 = threading.Thread(target=fun2,args=(lis,))\n",
    "\n",
    "t1.start()\n",
    "print(\"\")\n",
    "t2.start()\n",
    "t1.join()\n",
    "t2.join()\n"
   ]
  },
  {
   "cell_type": "markdown",
   "id": "b2c11f9c-1a37-42e4-9947-b116b0adddea",
   "metadata": {},
   "source": [
    "#### Q5.State advantages and disadvantages of multithreading.\n",
    "\n",
    "ANS --> \n",
    "\n",
    "Advantages -->\n",
    "\n",
    "1. Using Multithreading that help's to excute multiple thread at the same time.that helps to increase performace of the program and save the time.\n",
    "\n",
    "2. It allow Resposnsiveness that helps to enable responsibe applicaitons as one thread can handle time consuming task without blocking other threads.\n",
    "\n",
    "3. It imporve fast input/output operations.\n",
    "\n",
    "\n",
    "Disadvantages -->\n",
    "\n",
    "1. Using mulithreading that's makes program more complex. \n",
    "2. Face difficulty while debugging.\n",
    "3. increase memory and difficulty in testing."
   ]
  },
  {
   "cell_type": "markdown",
   "id": "dd6e720e-0aaa-4049-b6fb-fd2a79c0dfad",
   "metadata": {},
   "source": [
    "#### Q6.Explain deadlocks and race conditions.\n",
    "\n",
    "ANS -->\n",
    "\n",
    "1. Race Condition: \n",
    "\n",
    "A race condition occurs when two or more threads or processes access shared data at the same time  and the outcome of the program depends on the order in which the threads or processes access the data.\n",
    "\n",
    "2. Deadlocks Condition:\n",
    "\n",
    "a deadlock is a situation where two or more threads or processes are blocked, waiting for each other to release resources. This can happen when two threads or processes acquire locks on resources in a different order."
   ]
  },
  {
   "cell_type": "code",
   "execution_count": null,
   "id": "e86e5285-fe8e-4426-bc8d-49466016053f",
   "metadata": {},
   "outputs": [],
   "source": [
    "# import multiprocessing,time\n",
    "# def hell():\n",
    "#     print(\"hello\")\n",
    "# if __name__ == \"__main__\":\n",
    "#     p1 = multiprocessing.Process(target=hell,)\n",
    "#     p1.start()\n",
    "#     p1.join()"
   ]
  }
 ],
 "metadata": {
  "kernelspec": {
   "display_name": "Python 3 (ipykernel)",
   "language": "python",
   "name": "python3"
  },
  "language_info": {
   "codemirror_mode": {
    "name": "ipython",
    "version": 3
   },
   "file_extension": ".py",
   "mimetype": "text/x-python",
   "name": "python",
   "nbconvert_exporter": "python",
   "pygments_lexer": "ipython3",
   "version": "3.9.16"
  }
 },
 "nbformat": 4,
 "nbformat_minor": 5
}
