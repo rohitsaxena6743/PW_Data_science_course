{
 "cells": [
  {
   "cell_type": "markdown",
   "id": "48b8ef21-1a55-4b81-83c1-58a39dce573c",
   "metadata": {},
   "source": [
    "Q1, Create a vehicle class with an init method having instance variables as name_of_vehicle, max_speed\n",
    "and average_of_vehicle."
   ]
  },
  {
   "cell_type": "code",
   "execution_count": 2,
   "id": "4035c50a-88a8-432b-911e-a158506cb7e1",
   "metadata": {},
   "outputs": [
    {
     "name": "stdout",
     "output_type": "stream",
     "text": [
      "Vehicle is --> Toyota Fortune\n",
      "Max speed is --> 176\n"
     ]
    }
   ],
   "source": [
    "# CODE FOR Q1.\n",
    "class vehicle:\n",
    "    def __init__(self,name_of_vehicle,max_speed):\n",
    "        \n",
    "        self.name_of_vehicle = name_of_vehicle\n",
    "        self.max_speed = max_speed\n",
    "        \n",
    "    def get_data(self):\n",
    "        \n",
    "        print(\"Vehicle is -->\",self.name_of_vehicle)\n",
    "        print(\"Max speed is -->\",self.max_speed)\n",
    "\n",
    "obj = vehicle(\"Toyota Fortune\",176)\n",
    "obj.get_data()\n",
    "\n"
   ]
  },
  {
   "cell_type": "markdown",
   "id": "09111026-188c-4cad-a95c-8bf6c967d6ae",
   "metadata": {},
   "source": [
    "Q2. Create a child class car from the vehicle class created in Que 1, which will inherit the vehicle class.\n",
    "Create a method named seating_capacity which takes capacity as an argument and returns the name of\n",
    "the vehicle and its seating capacity."
   ]
  },
  {
   "cell_type": "code",
   "execution_count": 5,
   "id": "33829cca-c63e-456c-bc88-2e1d1e5bc325",
   "metadata": {},
   "outputs": [
    {
     "name": "stdout",
     "output_type": "stream",
     "text": [
      "Get car speed from vehicle class\n",
      "Speed is --> 180\n"
     ]
    }
   ],
   "source": [
    "# CODE FOR Q2.\n",
    "# EXAMPLE (202)\n",
    "class vehicle:\n",
    "    speed = 180\n",
    "    def __init__(self,name_of_vehicle):\n",
    "        self.name_of_vehicle = name_of_vehicle\n",
    "        \n",
    "        \n",
    "class car(vehicle):\n",
    "    def __init__(self):\n",
    "        print(\"Get car speed from vehicle class\")\n",
    "        print(\"Speed is -->\",vehicle.speed)\n",
    "\n",
    "obj_of_vehicle = vehicle(\"Rolls royals\")\n",
    "\n",
    "obj_of_car = car()\n"
   ]
  },
  {
   "cell_type": "markdown",
   "id": "523c8628-ef0b-4d7f-83c6-2bfe7976e549",
   "metadata": {},
   "source": [
    "Q2. ANS --> In this example(202) the vehicle class is parent class and the car class is child class\n",
    "\n",
    "the child class inherit vehicle class. \n",
    "\n",
    "let's take another example for sub question of q2.\n",
    "\n"
   ]
  },
  {
   "cell_type": "code",
   "execution_count": 10,
   "id": "8182e1dc-4c43-417b-8943-3039b7a9ac43",
   "metadata": {},
   "outputs": [
    {
     "name": "stdout",
     "output_type": "stream",
     "text": [
      "The Car Name is --> Toyota Fortuner\n",
      "The seating capacity in this car --> 7\n"
     ]
    }
   ],
   "source": [
    "# This code is for Q2. Sub quesiton \n",
    "class vehicle:\n",
    "    name_of_vehicle = \"Toyota Fortuner\"\n",
    "    def __init__(self):\n",
    "        pass\n",
    "    \n",
    "    \n",
    "class car(vehicle):\n",
    "    \n",
    "    def __init__(self,seating_capacity):\n",
    "        \n",
    "        self.seating_capacity = seating_capacity\n",
    "        \n",
    "    def get_data(self):\n",
    "        print(\"The Car Name is -->\",vehicle.name_of_vehicle)\n",
    "        print(\"The seating capacity in this car -->\",self.seating_capacity)\n",
    "        \n",
    "obj_car = car(7)\n",
    "        \n",
    "obj_car.get_data()\n",
    "        "
   ]
  },
  {
   "cell_type": "markdown",
   "id": "c745c480-d21e-427a-a6be-5a45a27e7dd8",
   "metadata": {},
   "source": [
    "Q3. What is multiple inheritance? Write a python code to demonstrate multiple inheritance.\n",
    "\n",
    "ANS --> Multiple Inheritance is a feature that helps to inherit methods and attributes of parent class in the child class.\n",
    "\n",
    "In multiple inheritance there is parent class and they have some method's and attribute . the child class access all the methods and attributes of parent class with the help of inheritance.\n",
    "\n",
    "in multiple inheritance we can access 1 and more classes methods in a single class"
   ]
  },
  {
   "cell_type": "code",
   "execution_count": 51,
   "id": "b57e81ea-466b-479f-becf-f12f317e8bfa",
   "metadata": {},
   "outputs": [
    {
     "name": "stdout",
     "output_type": "stream",
     "text": [
      "Price of car: 2200000\n",
      "Model of the car: 2023\n",
      "4WD\n"
     ]
    }
   ],
   "source": [
    "class Car:\n",
    "    def __init__(self, name, price, modl):\n",
    "        self.name = name\n",
    "        self.price = price\n",
    "        self.modl = modl\n",
    "\n",
    "    def get_price(self):\n",
    "        print(\"Price of car:\", self.price)\n",
    "\n",
    "    def get_model(self):\n",
    "        print(\"Model of the car:\", self.modl)\n",
    "\n",
    "\n",
    "class Feature:\n",
    "    f1 = \"4WD\"\n",
    "\n",
    "class CarDetail(Car, Feature):\n",
    "    def __init__(self, name, price, modl):\n",
    "        super().__init__(name, price, modl)\n",
    "\n",
    "\n",
    "obj_car_detail = CarDetail(\"Mahindra Thar\", 2200000, \"2023\")\n",
    "obj_car_detail.get_price()\n",
    "obj_car_detail.get_model()\n",
    "print(obj_car_detail.f1)"
   ]
  },
  {
   "cell_type": "markdown",
   "id": "40c73804-f09e-4abd-baf3-ebf7e8655e41",
   "metadata": {},
   "source": [
    "Q4. What are getter and setter in python? Create a class and create a getter and a setter method in this class.\n",
    "\n",
    "ANS --> \n",
    "\n",
    "getter --> The getter method is used to get (retrives) the value of a property . the getter method allows you to  get the value from the property method.\n",
    "\n",
    "setter --> the setter method is used to assing the value of the property method variable . it allows you to assign and update the value of property method."
   ]
  },
  {
   "cell_type": "code",
   "execution_count": 61,
   "id": "fe16c8cf-adc5-42c2-ac78-6f64aa766ada",
   "metadata": {},
   "outputs": [
    {
     "name": "stdout",
     "output_type": "stream",
     "text": [
      "ROHITS\n",
      "SaxenaS\n"
     ]
    }
   ],
   "source": [
    "# CODE FOR Q4. \n",
    "\n",
    "class rohit:\n",
    "    def __init__(self,name,age):\n",
    "        self._age = age\n",
    "        self._name = name\n",
    "        \n",
    "    @property \n",
    "    def name(self):\n",
    "        return self._name\n",
    "    \n",
    "    @name.setter\n",
    "    def name(self,S_name):\n",
    "        self._name = S_name\n",
    "        \n",
    "    @name.getter\n",
    "    def name(self):\n",
    "        return self._name + \"S\"\n",
    "    \n",
    "obj_rohit = rohit(\"ROHIT\",18)\n",
    "print(obj_rohit.name)\n",
    "obj_rohit.name = \"Saxena\"\n",
    "print(obj_rohit.name)"
   ]
  },
  {
   "cell_type": "markdown",
   "id": "a993bbe1-123a-44f6-b4c8-0b264e523674",
   "metadata": {},
   "source": [
    "Q5.What is method overriding in python? Write a python code to demonstrate method overriding.\n",
    "\n",
    "ANS --> Method overriding is possible by defining a function(method) with the same name in both superclass or subclass . when  an object of the subclass calls the method is overridden with the with the subclass functionality."
   ]
  },
  {
   "cell_type": "code",
   "execution_count": 64,
   "id": "37335f73-95fe-475a-a287-552aaaac63aa",
   "metadata": {},
   "outputs": [
    {
     "name": "stdout",
     "output_type": "stream",
     "text": [
      "Data for subject class\n",
      "Data for Sllaybus\n",
      "Data for rohit\n"
     ]
    }
   ],
   "source": [
    "# CODE FOR Q5. \n",
    "\n",
    "class subject:\n",
    "    def data(self):\n",
    "        print(\"Data for subject class\")\n",
    "        \n",
    "class sllaybus:\n",
    "    def data(self):\n",
    "        print(\"Data for Sllaybus\")\n",
    "        \n",
    "class rohit:\n",
    "    def data(self):\n",
    "        print(\"Data for rohit\")\n",
    "        \n",
    "def get_data(obj_list):\n",
    "    \n",
    "    for i in obj_list:\n",
    "        i.data()\n",
    "        \n",
    "obj_sub = subject()\n",
    "obj_sllay = sllaybus()\n",
    "obj_rohit = rohit()\n",
    "\n",
    "obj_list = [obj_sub, obj_sllay, obj_rohit ]\n",
    "get_data(obj_list)"
   ]
  },
  {
   "cell_type": "code",
   "execution_count": null,
   "id": "cbe3fd40-26ca-405c-b0d9-34a2009aa345",
   "metadata": {},
   "outputs": [],
   "source": []
  }
 ],
 "metadata": {
  "kernelspec": {
   "display_name": "Python 3 (ipykernel)",
   "language": "python",
   "name": "python3"
  },
  "language_info": {
   "codemirror_mode": {
    "name": "ipython",
    "version": 3
   },
   "file_extension": ".py",
   "mimetype": "text/x-python",
   "name": "python",
   "nbconvert_exporter": "python",
   "pygments_lexer": "ipython3",
   "version": "3.9.16"
  }
 },
 "nbformat": 4,
 "nbformat_minor": 5
}
