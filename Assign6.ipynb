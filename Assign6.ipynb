{
 "cells": [
  {
   "cell_type": "markdown",
   "id": "d969ed1e-c3a9-4415-9145-12eee58ec3fb",
   "metadata": {},
   "source": [
    "Q1. What is Abstraction in OOps? Explain with an example.\n",
    "\n",
    "ANS --> In python Abstraction is the process of hiding the implementation details of an object from the user and only exposing the essential features. it hide's how's working program. "
   ]
  },
  {
   "cell_type": "code",
   "execution_count": 1,
   "id": "5a5a682b-d1ec-43c2-a2c2-be4bc622752a",
   "metadata": {},
   "outputs": [
    {
     "name": "stdout",
     "output_type": "stream",
     "text": [
      "The Speed is --> 180 K/H\n",
      "The Speed is ---> 160 K/H\n"
     ]
    }
   ],
   "source": [
    "#CODE FOR Q1. -->\n",
    "from abc import ABC,abstractmethod\n",
    "class car(ABC):\n",
    "    def speed(self):\n",
    "        pass\n",
    "class fortuner(car):\n",
    "    def speed(self):\n",
    "        print(\"The Speed is --> 180 K/H\")\n",
    "class bmw(car):\n",
    "    def speed(self):\n",
    "        print(\"The Speed is ---> 200 K/H\")\n",
    "class tesla(car):\n",
    "    def speed(self):\n",
    "        print(\"The Speed is ---> 160 K/H\")\n",
    "\n",
    "f = fortuner()\n",
    "f.speed()\n",
    "\n",
    "t = tesla()\n",
    "t.speed()"
   ]
  },
  {
   "cell_type": "markdown",
   "id": "049839be-ad39-44c8-b5ad-728fff51eabc",
   "metadata": {},
   "source": [
    "Q2. Differentiate between Abstraction and Encapsulation. Explain with an example.\n",
    "\n",
    "Abstraction -->\n",
    "\n",
    "1. Abstraction is used to hiding the unnecessary details and emphasizing essential features of an object.\\\n",
    "\n",
    "2. Abstraction is a concept that helps in designing classes and objects.\n",
    "\n",
    "3. It focuses on the overall structure and behavior of objects.\n",
    "\n",
    "Encapsulation -->\n",
    "\n",
    "1. Encapsulation Focuses on dundling data and metods together into a single unit and controlling access to them.\n",
    "\n",
    "2. Encapsulation is ta techinique that enables implemeting the concept of abstaraction .\n",
    "\n",
    "3. It focuses on data hiding and controlling accss to ensure data integrity and prevent unathorized modificatinons.\n"
   ]
  },
  {
   "cell_type": "code",
   "execution_count": 3,
   "id": "0842a9dc-2bcd-4f54-ac26-ee1ee649422a",
   "metadata": {},
   "outputs": [
    {
     "name": "stdout",
     "output_type": "stream",
     "text": [
      "The Speed is --> 180 K/H\n",
      "The Speed is ---> 200 K/H\n"
     ]
    }
   ],
   "source": [
    "# CODE FOR Q2. \n",
    "# Abstaction in python \n",
    "from abc import ABC,abstractmethod\n",
    "class car(ABC):\n",
    "    def speed(self):\n",
    "        pass\n",
    "class fortuner(car):\n",
    "    def speed(self):\n",
    "        print(\"The Speed is --> 180 K/H\")\n",
    "class bmw(car):\n",
    "    def speed(self):\n",
    "        print(\"The Speed is ---> 200 K/H\")\n",
    "class tesla(car):\n",
    "    def speed(self):\n",
    "        print(\"The Speed is ---> 160 K/H\")\n",
    "\n",
    "f = fortuner()\n",
    "f.speed()\n",
    "\n",
    "b = bmw()\n",
    "b.speed()"
   ]
  },
  {
   "cell_type": "code",
   "execution_count": 1,
   "id": "b6c6d55c-d1ba-4623-a904-87523eea3518",
   "metadata": {},
   "outputs": [
    {
     "name": "stdout",
     "output_type": "stream",
     "text": [
      "call protected member of class : 100\n",
      "Accs of protected member of obj1 : 200\n",
      "Acces the protected member of obj2: 100\n"
     ]
    }
   ],
   "source": [
    "# CODE FOR Q2. \n",
    "# Enacapsulation in python \n",
    "\n",
    "# creating base class \n",
    "class base:\n",
    "    def __init__(self):\n",
    "        self.p = 100\n",
    "class derived(base):\n",
    "    def __init__(self):\n",
    "        # calling constructor of the base class\n",
    "        base.__init__(self)\n",
    "        print(\"call protected member of class :\",self.p)\n",
    "        # modify the protected variable:\n",
    "        self.p = 200\n",
    "        \n",
    "obj1 = derived()\n",
    "obj2 = base()\n",
    "\n",
    "# call protected member it can we accessed but should not be done due to  convention\n",
    "print(\"Accs of protected member of obj1 :\",obj1.p)\n",
    "\n",
    "print(\"Acces the protected member of obj2:\",obj2.p)"
   ]
  },
  {
   "cell_type": "markdown",
   "id": "6120f529-eca5-48dd-aea8-8deddd78f880",
   "metadata": {},
   "source": [
    "Q3. What is abc module in python? Why is it used?\n",
    "\n",
    "ANS -->  ABC module is the Abstract Base Module, it is part of standard library.the ABC module help's to achive abstract base classes in python. \n",
    "\n",
    "the ABC module provides the \"ABC\" class and the 'abstractmethod' decorator, that is used to define abstract method and abstract base classes,\n"
   ]
  },
  {
   "cell_type": "code",
   "execution_count": 2,
   "id": "54edc42d-40b5-45fe-98d2-9ffa82d5bd5d",
   "metadata": {},
   "outputs": [
    {
     "name": "stdout",
     "output_type": "stream",
     "text": [
      "The Speed is --> 180 K/H\n",
      "The Speed is ---> 200 K/H\n"
     ]
    }
   ],
   "source": [
    "# CODE FOR Q3 -->\n",
    "from abc import ABC,abstractmethod\n",
    "class car(ABC):\n",
    "    def speed(self):\n",
    "        pass\n",
    "class fortuner(car):\n",
    "    def speed(self):\n",
    "        print(\"The Speed is --> 180 K/H\")\n",
    "class bmw(car):\n",
    "    def speed(self):\n",
    "        print(\"The Speed is ---> 200 K/H\")\n",
    "class tesla(car):\n",
    "    def speed(self):\n",
    "        print(\"The Speed is ---> 160 K/H\")\n",
    "\n",
    "f = fortuner()\n",
    "f.speed()\n",
    "\n",
    "b = bmw()\n",
    "b.speed()"
   ]
  },
  {
   "cell_type": "markdown",
   "id": "950fbc0e-774c-46a7-8dad-1b28010845e1",
   "metadata": {},
   "source": [
    "Q4. How can we achieve data abstraction?\n",
    "\n",
    "ANS --> Data abstraction can be achived through the use of classes specifiacally by defining classes with appropriate member access levels using getter and setter methods.\n",
    "\n",
    "it emphasizes hiding the internal details of a class providing a simplified interface for interactive objects . \n",
    "it allows you to focus on the essential features and behaior of an object whle hiding the implementation details."
   ]
  },
  {
   "cell_type": "code",
   "execution_count": 14,
   "id": "7f1681ff-8b7c-439d-87a6-1cf5baa822f5",
   "metadata": {},
   "outputs": [
    {
     "name": "stdout",
     "output_type": "stream",
     "text": [
      "Account No. is --> 1313414\n",
      "Current Balance 1000\n",
      "Insfufficient balance\n",
      "After withdraw\n",
      "Current Balance 1000\n"
     ]
    }
   ],
   "source": [
    "# CODE FOR Q3. \n",
    "class BankAccount:\n",
    "    def __init__(self,account_number , balance):\n",
    "        self._account_number = account_number # protected\n",
    "        self._balance = balance\n",
    "        \n",
    "    def get_account_number(self):\n",
    "        return self._account_number\n",
    "    \n",
    "    def get_balance(self):\n",
    "        return self._balance\n",
    "    \n",
    "    def withdraw(self,amount):\n",
    "        \n",
    "        if self._balance >= amount:\n",
    "            self._balance -= amount\n",
    "        else:\n",
    "            print(\"Insfufficient balance\")\n",
    "account = BankAccount(\"1313414\",1000)\n",
    "\n",
    "# Accessing attributes using getter methods\n",
    "print(\"Account No. is -->\",account.get_account_number())  \n",
    "print(\"Current Balance\",account.get_balance())  \n",
    "\n",
    "account.withdraw(1000)\n",
    "print(\"After withdraw\")\n",
    "print(\"Current Balance\",account.get_balance())  \n"
   ]
  },
  {
   "cell_type": "markdown",
   "id": "8041167d-3892-42f2-9af9-88ffb357bde7",
   "metadata": {},
   "source": [
    "Q5. Can we create an instance of an abstract class? Explain your answer.\n",
    "\n",
    "ANS --> \n",
    "No this is not possible to create an instance of an abstract class . there is an error will produce while runing the program the ERROR is --> TYPE ERROR (  Can't instantiate abstract class rohit with abstract method __init__  )..\n"
   ]
  }
 ],
 "metadata": {
  "kernelspec": {
   "display_name": "Python 3 (ipykernel)",
   "language": "python",
   "name": "python3"
  },
  "language_info": {
   "codemirror_mode": {
    "name": "ipython",
    "version": 3
   },
   "file_extension": ".py",
   "mimetype": "text/x-python",
   "name": "python",
   "nbconvert_exporter": "python",
   "pygments_lexer": "ipython3",
   "version": "3.9.16"
  }
 },
 "nbformat": 4,
 "nbformat_minor": 5
}
